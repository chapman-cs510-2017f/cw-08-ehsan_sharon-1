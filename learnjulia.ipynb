{
 "cells": [
  {
   "cell_type": "markdown",
   "metadata": {
    "collapsed": false
   },
   "source": [
    "# Julia\n",
    "# Sharon Kim Ehsan Yaghmaei"
   ]
  },
  {
   "cell_type": "markdown",
   "metadata": {
    "collapsed": false
   },
   "source": [
    "### 1. What is the julia syntax for comments, variable declarations, and printing outputs?"
   ]
  },
  {
   "cell_type": "code",
   "execution_count": 7,
   "metadata": {
    "collapsed": false
   },
   "outputs": [
    {
     "name": "stdout",
     "output_type": "stream",
     "text": [
      "Hello World!4.1"
     ]
    }
   ],
   "source": [
    "# One line comment\n",
    "\n",
    "#=\n",
    "comment block\n",
    "=#\n",
    "\n",
    "#scalar\n",
    "A = 4.1\n",
    "# vector\n",
    "C = [1.1 2.2 3.3]\n",
    "#matrix\n",
    "E = [1 2; 3 4]\n",
    "\n",
    "print(\"Hello World!\")\n",
    "print(\"$A\")"
   ]
  },
  {
   "cell_type": "markdown",
   "metadata": {
    "collapsed": false
   },
   "source": [
    "### 2. What are the basic julia data types?  How do you define and use them?"
   ]
  },
  {
   "cell_type": "code",
   "execution_count": 6,
   "metadata": {
    "collapsed": false
   },
   "outputs": [
    {
     "data": {
      "text/plain": [
       "\"foobar\""
      ]
     },
     "execution_count": 6,
     "metadata": {
     },
     "output_type": "execute_result"
    }
   ],
   "source": [
    "# Boolean - Represents the value of a logical statement. Either True or False\n",
    "y = 1 > 2 # Now y = false\n",
    "\n",
    "# Float - a real number with a decimal point\n",
    "c = 1.0\n",
    "\n",
    "# Integer - a real whole number\n",
    "z = 1\n",
    "\n",
    "# Complex numbers - a combination of real and imaginary numbers in the form of a + bi\n",
    "a = 1 + 2im\n",
    "\n",
    "# String- a data type for storing a sequence of characters\n",
    "b = \"foobar\""
   ]
  },
  {
   "cell_type": "markdown",
   "metadata": {
    "collapsed": false
   },
   "source": [
    "### 3. What basic control structures are available in julia? (for, while, etc.)"
   ]
  },
  {
   "cell_type": "code",
   "execution_count": 8,
   "metadata": {
    "collapsed": false
   },
   "outputs": [
    {
     "data": {
      "text/plain": [
       "fun (generic function with 1 method)"
      ]
     },
     "execution_count": 8,
     "metadata": {
     },
     "output_type": "execute_result"
    }
   ],
   "source": [
    "# for loop - performs a sequence of commands for each element in an iterable object, such as an array\n",
    "N = 3\n",
    "l = zeros(N, 1)\n",
    "for i = 1:N\n",
    "   l[i] = i ^ 2\n",
    "end\n",
    "\n",
    "# while loop - performs a sequence of commands as long as some condition is true.\n",
    "N = 3\n",
    "l = zeros(N, 1)\n",
    "i = 1\n",
    "while i <= N\n",
    "   l[i] = i ^ 2\n",
    "   i = i + 1\n",
    "end\n",
    "\n",
    "# if/else statement - performs commands if a condition is met.\n",
    "if x == 5\n",
    "    x = x ^ 2\n",
    "else\n",
    "    x = x ^ 3\n",
    "end\n",
    "\n",
    "# function - organized reusable code that is used to perform a single, related action\n",
    "function fun(x, y)\n",
    "   ret = 5 * x\n",
    "   return ret + y\n",
    "end\n",
    "\n",
    "fun(x, y) = 5 * x + y"
   ]
  },
  {
   "cell_type": "markdown",
   "metadata": {
    "collapsed": false
   },
   "source": [
    "### 4. What are some notable differences between Python and julia?  What are some notable similarities?\n",
    "Julia is more user friendly for mathematical commands algebraically and through matrix manipulation. It does not define everything as an object. It's execute time is faster because it runs like FORTRAN and C.  It is far easier and more straight forward to use because useful libraries do not need to be imported to use. Some major similarities are that command syntax is similar to python."
   ]
  },
  {
   "cell_type": "markdown",
   "metadata": {
    "collapsed": false
   },
   "source": [
    "### EXERCISE: Function that generates the first 100 Fibonacci numbers in julia"
   ]
  },
  {
   "cell_type": "code",
   "execution_count": 18,
   "metadata": {
    "collapsed": false
   },
   "outputs": [
    {
     "name": "stdout",
     "output_type": "stream",
     "text": [
      "1\n",
      "1\n",
      "2\n",
      "3\n",
      "5\n",
      "8\n",
      "13\n",
      "21\n",
      "34\n",
      "55\n",
      "89\n",
      "144\n",
      "233\n",
      "377\n",
      "610\n",
      "987\n",
      "1597\n",
      "2584\n",
      "4181\n",
      "6765\n",
      "10946\n",
      "17711\n",
      "28657\n",
      "46368\n",
      "75025\n",
      "121393\n",
      "196418\n",
      "317811\n",
      "514229\n",
      "832040\n",
      "1346269\n",
      "2178309\n",
      "3524578\n",
      "5702887\n",
      "9227465\n",
      "14930352\n",
      "24157817\n",
      "39088169\n",
      "63245986\n",
      "102334155\n",
      "165580141\n",
      "267914296\n",
      "433494437\n",
      "701408733\n",
      "1134903170\n",
      "1836311903\n",
      "2971215073\n",
      "4807526976\n",
      "7778742049\n",
      "12586269025\n",
      "20365011074\n",
      "32951280099\n",
      "53316291173\n",
      "86267571272\n",
      "139583862445\n",
      "225851433717\n",
      "365435296162\n",
      "591286729879\n",
      "956722026041\n",
      "1548008755920\n",
      "2504730781961\n",
      "4052739537881\n",
      "6557470319842\n",
      "10610209857723\n",
      "17167680177565\n",
      "27777890035288\n",
      "44945570212853\n",
      "72723460248141\n",
      "117669030460994\n",
      "190392490709135\n",
      "308061521170129\n",
      "498454011879264\n",
      "806515533049393\n",
      "1304969544928657\n",
      "2111485077978050\n",
      "3416454622906707\n",
      "5527939700884757\n",
      "8944394323791464\n",
      "14472334024676221\n",
      "23416728348467685\n",
      "37889062373143906\n",
      "61305790721611591\n",
      "99194853094755497\n",
      "160500643816367088\n",
      "259695496911122585\n",
      "420196140727489673\n",
      "679891637638612258\n",
      "1100087778366101931\n",
      "1779979416004714189\n",
      "2880067194370816120\n",
      "4660046610375530309\n",
      "7540113804746346429\n",
      "-6246583658587674878\n",
      "1293530146158671551\n",
      "-4953053512429003327\n",
      "-3659523366270331776\n",
      "-8612576878699335103\n",
      "6174643828739884737\n",
      "-2437933049959450366\n",
      "3736710778780434371\n"
     ]
    }
   ],
   "source": [
    "function fibonacci(n)\n",
    "    a, b = 0, 1\n",
    "    for i=1:n\n",
    "        a, b = b, a + b\n",
    "    end\n",
    "    return a\n",
    "end\n",
    "\n",
    "for n=1:100\n",
    "    println(fibonacci(n))\n",
    "end"
   ]
  },
  {
   "cell_type": "code",
   "execution_count": 0,
   "metadata": {
    "collapsed": false
   },
   "outputs": [
   ],
   "source": [
   ]
  }
 ],
 "metadata": {
  "kernelspec": {
   "display_name": "Julia",
   "language": "julia",
   "name": "julia"
  },
  "language_info": {
   "file_extension": ".jl",
   "mimetype": "application/julia",
   "name": "julia",
   "version": "0.6.0"
  }
 },
 "nbformat": 4,
 "nbformat_minor": 0
}