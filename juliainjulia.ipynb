{
 "cells": [
  {
   "cell_type": "code",
   "execution_count": 10,
   "metadata": {
    "collapsed": false
   },
   "outputs": [
    {
     "name": "stderr",
     "output_type": "stream",
     "text": [
      "\u001b[1m\u001b[33mWARNING: \u001b[39m\u001b[22m\u001b[33mreplacing docs for 'juliamap :: Tuple{Any,Any}' in module 'Main'.\u001b[39m"
     ]
    },
    {
     "name": "stderr",
     "output_type": "stream",
     "text": [
      "\n"
     ]
    },
    {
     "data": {
      "text/markdown": [
       "juliamap(c,z; maxiter) :   Implement the iteration algorithm for a Julia Set.\n",
       "\n",
       "**Returns:** integer number of iterations, or zero if the iteration never diverges.\n",
       "\n",
       "  * c : complex constant definining the set\n",
       "  * z : complex number being iterated\n",
       "  * maxiter : maximum iteration number, defaults to 100\n"
      ]
     },
     "execution_count": 10,
     "metadata": {
     },
     "output_type": "execute_result"
    }
   ],
   "source": [
    "\"\"\"\n",
    "juliamap(c,z; maxiter) :\n",
    "  Implement the iteration algorithm for a Julia Set.\n",
    "\n",
    "**Returns:** integer number of iterations, or zero\n",
    "if the iteration never diverges.\n",
    "\n",
    " - c : complex constant definining the set\n",
    " - z : complex number being iterated\n",
    " - maxiter : maximum iteration number, defaults to 100\n",
    "\"\"\"\n",
    "function juliamap(c, z; maxiter=100)\n",
    "    for n = 1:maxiter\n",
    "        z = z^2 + c\n",
    "        if abs(z) > 2\n",
    "            return n\n",
    "        end\n",
    "    end\n",
    "    return 0\n",
    "end\n",
    "\n",
    "@doc juliamap"
   ]
  },
  {
   "cell_type": "code",
   "execution_count": 11,
   "metadata": {
    "collapsed": false
   },
   "outputs": [
    {
     "name": "stdout",
     "output_type": "stream",
     "text": [
      "33"
     ]
    },
    {
     "name": "stdout",
     "output_type": "stream",
     "text": [
      "[0, 0, 0, 0, 0, 0, 0, 0, 0, 0, 0, 0, 0, 0, 0, 0, 0, 0, 0, 0, 0, 0, 0, 0, 0, 0, 0, 0, 0, 0, 0, 0, 0, 0, 0, 0, 0, 0, 0, 0, 0, 0, 0, 0, 0, 0, 0, 0, 0, 0, 0, 0, 0, 0, 0, 0, 0, 0, 0, 0, 0, 7, 6, 5, 4, 4, 4, 4, 3, 3, 3, 3, 3, 3, 3, 2, 2, 2, 2, 2, 2, 2, 2, 2, 2, 2, 2, 2, 2, 2, 2, 1, 1, 1, 1, 1, 1, 1, 1, 1]"
     ]
    }
   ],
   "source": [
    "# Specialize juliamap to c=0\n",
    "j0(z) = juliamap(0,z)\n",
    "\n",
    "# Evaluate j0 on single complex points. Note: im is the imaginary unit in Julia\n",
    "print( j0( complex(1.1, 0.3) ) )  # Recommended construction for complex numbers\n",
    "print( j0( 1.1 + 0.3im ) )       # Equivalent result, but constructs z in 2 steps\n",
    "\n",
    "# Evaluate j0 across an array - the . notation automatically vectorizes any function\n",
    "a = linspace(complex(0.1,0.3), complex(1.5,0.3), 100)\n",
    "print( j0.(a) )"
   ]
  },
  {
   "cell_type": "markdown",
   "metadata": {
    "collapsed": false
   },
   "source": [
    "These commands are constructing a grid of complex numbers.  This exercise accomplishes part of the same tasks that we have been doing thus far in python. It creates a vector that contains all of the values that we want to put into a grid. This illustrates how Julia is a much easier and more efficient language to code in."
   ]
  },
  {
   "cell_type": "code",
   "execution_count": 12,
   "metadata": {
    "collapsed": false
   },
   "outputs": [
    {
     "data": {
      "text/plain": [
       "complex_plane (generic function with 5 methods)"
      ]
     },
     "execution_count": 12,
     "metadata": {
     },
     "output_type": "execute_result"
    }
   ],
   "source": [
    "# Create a complex plane\n",
    "function complex_plane(xmin=-2, xmax=2, ymin=-2, ymax=2; xpoints=2000, ypoints=2000)\n",
    "    # y is a column vector\n",
    "    y = linspace(ymin, ymax, ypoints)\n",
    "\n",
    "    # x uses a transpose, yielding a row vector\n",
    "    x = linspace(xmin, xmax, xpoints)'\n",
    "\n",
    "    # z uses broadcasted addition and multiplication to create a plane\n",
    "    z = x .+ y.*im;\n",
    "\n",
    "    # The final line of a block is treated as the return value, in the absence\n",
    "    # of an explicit return statement\n",
    "end"
   ]
  },
  {
   "cell_type": "code",
   "execution_count": 13,
   "metadata": {
    "collapsed": false
   },
   "outputs": [
    {
     "name": "stderr",
     "output_type": "stream",
     "text": [
      "Kernel terminated -- this might be caused by running out of memory or hitting a bug in some library (e.g., forking too many processes, trying to access invalid memory, etc.). Consider restarting or upgrading your project or running the relevant code directly in a terminal to track down the cause."
     ]
    }
   ],
   "source": [
    "# The vectorized function can be applied directly to the plane\n",
    "@time cplane = complex_plane()\n",
    "@time j0p = j0.(cplane)"
   ]
  },
  {
   "cell_type": "markdown",
   "metadata": {
    "collapsed": false
   },
   "source": [
    "This code creates a function called complex plane.  It creates an array called x and y that contains 2000 points from -2 to 2. Through the values in the array, it creates a plane of complex numbers with the format x + yi. The function complex_plane and j0 are run and the run times are compared.  The function complex_plane runs much faster.  Semicolons are used to supress printing the result, whereas commas are used as separators within commands to distinguish assigned values."
   ]
  },
  {
   "cell_type": "code",
   "execution_count": 0,
   "metadata": {
    "collapsed": false
   },
   "outputs": [
    {
     "name": "stderr",
     "output_type": "stream",
     "text": [
      "Kernel terminated -- this might be caused by running out of memory or hitting a bug in some library (e.g., forking too many processes, trying to access invalid memory, etc.). Consider restarting or upgrading your project or running the relevant code directly in a terminal to track down the cause."
     ]
    }
   ],
   "source": [
    "mutable struct ComplexPlane\n",
    "    x :: LinSpace{Float64}\n",
    "    y :: LinSpace{Float64}\n",
    "    z :: Array{Number,2}\n",
    "    \n",
    "    function ComplexPlane(xmin=-2, xmax=2, ymin=-2, ymax=2;\n",
    "                            xpoints=2000, ypoints=2000)\n",
    "        x = linspace(xmin, xmax, xpoints)\n",
    "        y = linspace(ymin, ymax, ypoints)\n",
    "        z = x' .+ y.*im\n",
    "        new(x,y,z)\n",
    "    end\n",
    "end"
   ]
  },
  {
   "cell_type": "code",
   "execution_count": 0,
   "metadata": {
    "collapsed": false
   },
   "outputs": [
    {
     "name": "stderr",
     "output_type": "stream",
     "text": [
      "Kernel terminated -- this might be caused by running out of memory or hitting a bug in some library (e.g., forking too many processes, trying to access invalid memory, etc.). Consider restarting or upgrading your project or running the relevant code directly in a terminal to track down the cause."
     ]
    }
   ],
   "source": [
    "cplane = ComplexPlane(xpoints=200,ypoints=200);\n",
    "typeof(cplane)\n",
    "print(typeof(cplane.x))\n",
    "cplane.z = j0.(cplane.z)"
   ]
  },
  {
   "cell_type": "markdown",
   "metadata": {
    "collapsed": false
   },
   "source": [
    "The mutable structure is similar to a Python class because it inherits the structure of the defined ComplexPlane function.  It is also like the __init__ method of the Python class because it does not run the defined function unless commanded to do so."
   ]
  },
  {
   "cell_type": "code",
   "execution_count": 0,
   "metadata": {
    "collapsed": false
   },
   "outputs": [
    {
     "name": "stderr",
     "output_type": "stream",
     "text": [
      "Kernel terminated -- this might be caused by running out of memory or hitting a bug in some library (e.g., forking too many processes, trying to access invalid memory, etc.). Consider restarting or upgrading your project or running the relevant code directly in a terminal to track down the cause."
     ]
    }
   ],
   "source": [
    "c = -1.0 + 2.5im         #  Set starting point of julia set\n",
    "j(z) = juliamap(c, z)       #  Create julia map\n",
    "cplane = ComplexPlane()     #  Create 2000x2000 point complex plane\n",
    "jp = j.(cplane.z);          #  Apply julia map to entire plane\n",
    "\n",
    "\n",
    "using PyPlot                #  Load PyPlot package into the current namespace\n",
    "figure(1)\n",
    "xlabel(\"Re(z)\")\n",
    "ylabel(\"Im(z)\")\n",
    "title(\"Julia Set: c = \" * string(c))\n",
    "pcolormesh(cplane.x, cplane.y, jp, cmap=PyPlot.cm_get_cmap(\"hot\"))\n",
    "savefig(\"julia1.png\")        #  Also output figure to png file"
   ]
  },
  {
   "cell_type": "code",
   "execution_count": 0,
   "metadata": {
    "collapsed": false
   },
   "outputs": [
   ],
   "source": [
    "c = 1.0 + 0im         #  Set starting point of julia set\n",
    "j(z) = juliamap(c, z)       #  Create julia map\n",
    "cplane = ComplexPlane()     #  Create 2000x2000 point complex plane\n",
    "jp = j.(cplane.z);          #  Apply julia map to entire plane\n",
    "\n",
    "\n",
    "using PyPlot                #  Load PyPlot package into the current namespace\n",
    "figure(1)\n",
    "xlabel(\"Re(z)\")\n",
    "ylabel(\"Im(z)\")\n",
    "title(\"Julia Set: c = \" * string(c))\n",
    "pcolormesh(cplane.x, cplane.y, jp, cmap=PyPlot.cm_get_cmap(\"hot\"))\n",
    "savefig(\"julia2.png\")        #  Also output figure to png file"
   ]
  },
  {
   "cell_type": "code",
   "execution_count": 0,
   "metadata": {
    "collapsed": false
   },
   "outputs": [
   ],
   "source": [
    "c = -0.5 + 0.5im         #  Set starting point of julia set\n",
    "j(z) = juliamap(c, z)       #  Create julia map\n",
    "cplane = ComplexPlane()     #  Create 2000x2000 point complex plane\n",
    "jp = j.(cplane.z);          #  Apply julia map to entire plane\n",
    "\n",
    "\n",
    "using PyPlot                #  Load PyPlot package into the current namespace\n",
    "figure(1)\n",
    "xlabel(\"Re(z)\")\n",
    "ylabel(\"Im(z)\")\n",
    "title(\"Julia Set: c = \" * string(c))\n",
    "pcolormesh(cplane.x, cplane.y, jp, cmap=PyPlot.cm_get_cmap(\"hot\"))\n",
    "savefig(\"julia3.png\")        #  Also output figure to png file"
   ]
  },
  {
   "cell_type": "code",
   "execution_count": 0,
   "metadata": {
    "collapsed": false
   },
   "outputs": [
   ],
   "source": [
    "c = 5 + -1im         #  Set starting point of julia set\n",
    "j(z) = juliamap(c, z)       #  Create julia map\n",
    "cplane = ComplexPlane()     #  Create 2000x2000 point complex plane\n",
    "jp = j.(cplane.z);          #  Apply julia map to entire plane\n",
    "\n",
    "\n",
    "using PyPlot                #  Load PyPlot package into the current namespace\n",
    "figure(1)\n",
    "xlabel(\"Re(z)\")\n",
    "ylabel(\"Im(z)\")\n",
    "title(\"Julia Set: c = \" * string(c))\n",
    "pcolormesh(cplane.x, cplane.y, jp, cmap=PyPlot.cm_get_cmap(\"hot\"))\n",
    "savefig(\"julia4.png\")        #  Also output figure to png file"
   ]
  },
  {
   "cell_type": "code",
   "execution_count": 0,
   "metadata": {
    "collapsed": false
   },
   "outputs": [
   ],
   "source": [
    "c = 0.3425.0 + .9999im         #  Set starting point of julia set\n",
    "j(z) = juliamap(c, z)       #  Create julia map\n",
    "cplane = ComplexPlane()     #  Create 2000x2000 point complex plane\n",
    "jp = j.(cplane.z);          #  Apply julia map to entire plane\n",
    "\n",
    "\n",
    "using PyPlot                #  Load PyPlot package into the current namespace\n",
    "figure(1)\n",
    "xlabel(\"Re(z)\")\n",
    "ylabel(\"Im(z)\")\n",
    "title(\"Julia Set: c = \" * string(c))\n",
    "pcolormesh(cplane.x, cplane.y, jp, cmap=PyPlot.cm_get_cmap(\"hot\"))\n",
    "savefig(\"julia5.png\")        #  Also output figure to png file"
   ]
  }
 ],
 "metadata": {
  "kernelspec": {
   "display_name": "Julia",
   "language": "julia",
   "name": "julia"
  },
  "language_info": {
   "file_extension": ".jl",
   "mimetype": "application/julia",
   "name": "julia",
   "version": "0.6.0"
  }
 },
 "nbformat": 4,
 "nbformat_minor": 0
}